{
 "cells": [
  {
   "cell_type": "code",
   "execution_count": 13,
   "metadata": {},
   "outputs": [],
   "source": [
    "import requests\n",
    "import pandas as pd"
   ]
  },
  {
   "cell_type": "code",
   "execution_count": 2,
   "metadata": {},
   "outputs": [],
   "source": [
    "url_path='https://web.spin.pm/api/gbfs/v1/washington_dc/free_bike_status'"
   ]
  },
  {
   "cell_type": "code",
   "execution_count": 5,
   "metadata": {},
   "outputs": [],
   "source": [
    "response=requests.get(url_path)"
   ]
  },
  {
   "cell_type": "code",
   "execution_count": 7,
   "metadata": {},
   "outputs": [],
   "source": [
    "data=response.json()"
   ]
  },
  {
   "cell_type": "code",
   "execution_count": 11,
   "metadata": {},
   "outputs": [
    {
     "data": {
      "text/plain": [
       "1851"
      ]
     },
     "execution_count": 11,
     "metadata": {},
     "output_type": "execute_result"
    }
   ],
   "source": [
    "len(data['data']['bikes'])"
   ]
  },
  {
   "cell_type": "code",
   "execution_count": 15,
   "metadata": {},
   "outputs": [
    {
     "data": {
      "text/html": [
       "<div>\n",
       "<style scoped>\n",
       "    .dataframe tbody tr th:only-of-type {\n",
       "        vertical-align: middle;\n",
       "    }\n",
       "\n",
       "    .dataframe tbody tr th {\n",
       "        vertical-align: top;\n",
       "    }\n",
       "\n",
       "    .dataframe thead th {\n",
       "        text-align: right;\n",
       "    }\n",
       "</style>\n",
       "<table border=\"1\" class=\"dataframe\">\n",
       "  <thead>\n",
       "    <tr style=\"text-align: right;\">\n",
       "      <th></th>\n",
       "      <th>bike_id</th>\n",
       "      <th>lat</th>\n",
       "      <th>lon</th>\n",
       "      <th>vehicle_type</th>\n",
       "      <th>is_reserved</th>\n",
       "      <th>is_disabled</th>\n",
       "    </tr>\n",
       "  </thead>\n",
       "  <tbody>\n",
       "    <tr>\n",
       "      <th>0</th>\n",
       "      <td>5dc519f0-6dcf-4517-8412-385ee5ff3037</td>\n",
       "      <td>38.91886</td>\n",
       "      <td>-77.00345</td>\n",
       "      <td>scooter</td>\n",
       "      <td>0</td>\n",
       "      <td>0</td>\n",
       "    </tr>\n",
       "    <tr>\n",
       "      <th>1</th>\n",
       "      <td>f93bbb0f-5b91-40f3-b713-81ce8b7d7379</td>\n",
       "      <td>38.90420</td>\n",
       "      <td>-77.05794</td>\n",
       "      <td>scooter</td>\n",
       "      <td>0</td>\n",
       "      <td>0</td>\n",
       "    </tr>\n",
       "    <tr>\n",
       "      <th>2</th>\n",
       "      <td>e8ea0aa8-ab43-4505-a450-ea85843207de</td>\n",
       "      <td>38.89421</td>\n",
       "      <td>-76.99776</td>\n",
       "      <td>scooter</td>\n",
       "      <td>0</td>\n",
       "      <td>0</td>\n",
       "    </tr>\n",
       "    <tr>\n",
       "      <th>3</th>\n",
       "      <td>21b66e31-443e-453f-a925-88aabf921228</td>\n",
       "      <td>38.92014</td>\n",
       "      <td>-77.04173</td>\n",
       "      <td>scooter</td>\n",
       "      <td>0</td>\n",
       "      <td>0</td>\n",
       "    </tr>\n",
       "    <tr>\n",
       "      <th>4</th>\n",
       "      <td>e4922f8a-33e5-47dd-97ce-8104a2e73f22</td>\n",
       "      <td>38.91259</td>\n",
       "      <td>-77.04791</td>\n",
       "      <td>scooter</td>\n",
       "      <td>0</td>\n",
       "      <td>0</td>\n",
       "    </tr>\n",
       "  </tbody>\n",
       "</table>\n",
       "</div>"
      ],
      "text/plain": [
       "                                bike_id       lat       lon vehicle_type  \\\n",
       "0  5dc519f0-6dcf-4517-8412-385ee5ff3037  38.91886 -77.00345      scooter   \n",
       "1  f93bbb0f-5b91-40f3-b713-81ce8b7d7379  38.90420 -77.05794      scooter   \n",
       "2  e8ea0aa8-ab43-4505-a450-ea85843207de  38.89421 -76.99776      scooter   \n",
       "3  21b66e31-443e-453f-a925-88aabf921228  38.92014 -77.04173      scooter   \n",
       "4  e4922f8a-33e5-47dd-97ce-8104a2e73f22  38.91259 -77.04791      scooter   \n",
       "\n",
       "   is_reserved  is_disabled  \n",
       "0            0            0  \n",
       "1            0            0  \n",
       "2            0            0  \n",
       "3            0            0  \n",
       "4            0            0  "
      ]
     },
     "execution_count": 15,
     "metadata": {},
     "output_type": "execute_result"
    }
   ],
   "source": [
    "df=pd.DataFrame(data['data']['bikes'])\n",
    "df.head()"
   ]
  },
  {
   "cell_type": "code",
   "execution_count": null,
   "metadata": {},
   "outputs": [],
   "source": []
  }
 ],
 "metadata": {
  "kernelspec": {
   "display_name": "Python 3",
   "language": "python",
   "name": "python3"
  },
  "language_info": {
   "codemirror_mode": {
    "name": "ipython",
    "version": 3
   },
   "file_extension": ".py",
   "mimetype": "text/x-python",
   "name": "python",
   "nbconvert_exporter": "python",
   "pygments_lexer": "ipython3",
   "version": "3.7.1"
  }
 },
 "nbformat": 4,
 "nbformat_minor": 2
}
